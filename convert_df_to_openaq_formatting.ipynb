{
 "cells": [
  {
   "cell_type": "code",
   "execution_count": null,
   "id": "wrong-productivity",
   "metadata": {},
   "outputs": [],
   "source": [
    "import glob\n",
    "import pandas as pd\n",
    "import xarray as xr\n",
    "import numpy as np"
   ]
  },
  {
   "cell_type": "code",
   "execution_count": null,
   "id": "alternative-presence",
   "metadata": {},
   "outputs": [],
   "source": [
    "df_openaq = pd.read_csv(\n",
    "    '/nfs/b0122/Users/earlacoa/openaq/csv/openaq_data_2015_noduplicates.csv',\n",
    "    index_col=\"date.utc\",\n",
    "    parse_dates=True\n",
    ")"
   ]
  },
  {
   "cell_type": "code",
   "execution_count": null,
   "id": "ruled-wrapping",
   "metadata": {},
   "outputs": [],
   "source": [
    "df_obs_summaries = {'2014': [], '2015': [], '2016': [], '2017': [], '2018': [], '2019': [], '2020': []}\n",
    "china_obs_files = glob.glob('/nfs/a68/earlacoa/china_measurements_corrected/*nc')\n",
    "parameters = {'CO': 'co', 'NO2': 'no2', 'O3': 'o3', 'PM10': 'pm10', 'PM2.5': 'pm25', 'SO2': 'so2'}\n",
    "years = ['2014', '2015', '2016', '2017', '2018', '2019', '2020']\n",
    "\n",
    "\n",
    "for china_obs_file in china_obs_files:\n",
    "    ds_obs = xr.open_dataset(china_obs_file)\n",
    "    \n",
    "    for parameter in parameters.keys():\n",
    "        dict_obs = {\n",
    "            'date.utc': ds_obs.time.values,\n",
    "            'city': ds_obs.city,\n",
    "            'unit': 'µg/m³',\n",
    "            'value': ds_obs[parameter].values,\n",
    "            'country': 'CN',\n",
    "            'location': ds_obs.name,\n",
    "            'parameter': parameters[parameter],\n",
    "            'sourceName': 'China measurements',\n",
    "            'sourceType': 'government',\n",
    "            'date.local': ds_obs.time.values + np.timedelta64(8, 'h'),\n",
    "            'coordinates.latitude': ds_obs.lat,\n",
    "            'coordinates.longitude': ds_obs.lon, \n",
    "            'averagingPeriod.unit': 'hours',\n",
    "            'averagingPeriod.value': 1\n",
    "        }\n",
    "        df_obs = pd.DataFrame.from_dict(dict_obs)\n",
    "        df_obs.set_index('date.utc', inplace=True)\n",
    "        \n",
    "        for year in years:\n",
    "            df_obs_summaries[year].append(df_obs[year])\n",
    "        \n",
    "    ds_obs.close()"
   ]
  },
  {
   "cell_type": "code",
   "execution_count": null,
   "id": "existing-manual",
   "metadata": {},
   "outputs": [],
   "source": [
    "for year in years:\n",
    "    df_obs_summaries_concat = pd.concat(df_obs_summaries[year])\n",
    "    df_obs_summaries_concat.to_csv(f'/nfs/a68/earlacoa/china_measurements_corrected/df_obs_summary_{year}.csv')"
   ]
  },
  {
   "cell_type": "code",
   "execution_count": null,
   "id": "serious-reasoning",
   "metadata": {},
   "outputs": [],
   "source": []
  }
 ],
 "metadata": {
  "kernelspec": {
   "display_name": "python3",
   "language": "python",
   "name": "python3"
  },
  "language_info": {
   "codemirror_mode": {
    "name": "ipython",
    "version": 3
   },
   "file_extension": ".py",
   "mimetype": "text/x-python",
   "name": "python",
   "nbconvert_exporter": "python",
   "pygments_lexer": "ipython3",
   "version": "3.8.6"
  }
 },
 "nbformat": 4,
 "nbformat_minor": 5
}
